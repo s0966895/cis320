{
  "nbformat": 4,
  "nbformat_minor": 0,
  "metadata": {
    "colab": {
      "provenance": [],
      "authorship_tag": "ABX9TyNAiTowIj6N3YNRY9M3cI2z",
      "include_colab_link": true
    },
    "kernelspec": {
      "name": "python3",
      "display_name": "Python 3"
    },
    "language_info": {
      "name": "python"
    }
  },
  "cells": [
    {
      "cell_type": "markdown",
      "metadata": {
        "id": "view-in-github",
        "colab_type": "text"
      },
      "source": [
        "<a href=\"https://colab.research.google.com/github/s0966895/cis320/blob/main/pythonbasics.ipynb\" target=\"_parent\"><img src=\"https://colab.research.google.com/assets/colab-badge.svg\" alt=\"Open In Colab\"/></a>"
      ]
    },
    {
      "cell_type": "code",
      "source": [
        "names= (\"Jayvian\", \"Jayvian\", \"Jayvian\")\n",
        "for x in names:\n",
        "  print (x)\n"
      ],
      "metadata": {
        "colab": {
          "base_uri": "https://localhost:8080/"
        },
        "id": "u-cbqQAAwY0O",
        "outputId": "fe276cd7-190a-4a4d-b465-0a009ecbe42e"
      },
      "execution_count": 6,
      "outputs": [
        {
          "output_type": "stream",
          "name": "stdout",
          "text": [
            "Jayvian\n",
            "Jayvian\n",
            "Jayvian\n"
          ]
        }
      ]
    },
    {
      "cell_type": "code",
      "source": [
        "for i in range (3):\n",
        "  print(\"Jayvian\")"
      ],
      "metadata": {
        "colab": {
          "base_uri": "https://localhost:8080/"
        },
        "id": "tOVvYjBLw5MG",
        "outputId": "280de6e9-ddeb-4820-b784-9cafaa22a34f"
      },
      "execution_count": 7,
      "outputs": [
        {
          "output_type": "stream",
          "name": "stdout",
          "text": [
            "Jayvian\n",
            "Jayvian\n",
            "Jayvian\n"
          ]
        }
      ]
    },
    {
      "cell_type": "code",
      "source": [
        "i = 1\n",
        "while i < 6:\n",
        "  print(\"Jayvian\")\n",
        "  i = i + 1"
      ],
      "metadata": {
        "colab": {
          "base_uri": "https://localhost:8080/"
        },
        "id": "QxnQzDLYxi5N",
        "outputId": "7fb07870-d7d6-46af-e0bf-f84b05574b17"
      },
      "execution_count": 10,
      "outputs": [
        {
          "output_type": "stream",
          "name": "stdout",
          "text": [
            "Jayvian\n",
            "Jayvian\n",
            "Jayvian\n",
            "Jayvian\n",
            "Jayvian\n"
          ]
        }
      ]
    },
    {
      "cell_type": "code",
      "source": [
        "x='Monte'\n",
        "if x== 'Monte':\n",
        " print (\"Hi Monte\")\n",
        "else:\n",
        "  print (\"Hello Friend\")"
      ],
      "metadata": {
        "colab": {
          "base_uri": "https://localhost:8080/"
        },
        "id": "FGr_TioayAL3",
        "outputId": "3068b1e5-8b6c-4c94-ebdb-66fa2e3ff808"
      },
      "execution_count": 13,
      "outputs": [
        {
          "output_type": "stream",
          "name": "stdout",
          "text": [
            "Hi Monte\n"
          ]
        }
      ]
    },
    {
      "cell_type": "code",
      "source": [
        "def my_func(name):\n",
        "  for i in range (3):\n",
        "   print(name)\n",
        "\n",
        "my_func(\"Monte\")"
      ],
      "metadata": {
        "colab": {
          "base_uri": "https://localhost:8080/"
        },
        "id": "Z1J8TnykzR9o",
        "outputId": "9f4a2c9c-4d40-45b7-8e3a-e5d86cabe188"
      },
      "execution_count": 15,
      "outputs": [
        {
          "output_type": "stream",
          "name": "stdout",
          "text": [
            "Monte\n",
            "Monte\n",
            "Monte\n"
          ]
        }
      ]
    },
    {
      "cell_type": "code",
      "source": [
        "f = open(\"my name.txt\", \"w\")\n",
        "f.write('Jayvian')\n",
        "f.close ()"
      ],
      "metadata": {
        "id": "iQcP5Hrh1lwn"
      },
      "execution_count": 24,
      "outputs": []
    }
  ]
}